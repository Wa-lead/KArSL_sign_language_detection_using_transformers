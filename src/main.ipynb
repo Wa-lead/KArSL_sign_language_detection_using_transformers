{
 "cells": [
  {
   "cell_type": "code",
   "execution_count": 3,
   "metadata": {},
   "outputs": [],
   "source": [
    "import pandas as pd\n",
    "import numpy as np\n",
    "import keras\n",
    "import tensorflow\n"
   ]
  },
  {
   "cell_type": "code",
   "execution_count": 2,
   "metadata": {},
   "outputs": [],
   "source": [
    "IMG_SIZE = 224\n",
    "FRAMES = 18"
   ]
  },
  {
   "attachments": {},
   "cell_type": "markdown",
   "metadata": {},
   "source": [
    "# ` 1 - Create a custom data loader `"
   ]
  },
  {
   "cell_type": "code",
   "execution_count": 5,
   "metadata": {},
   "outputs": [],
   "source": [
    "import numpy as np\n",
    "from keras.utils import Sequence\n",
    "import os\n",
    "\n",
    "\n",
    "class NpyDataGenerator(Sequence):\n",
    "    def __init__(self, directory, batch_size=32, shuffle=True, num_classes=100):\n",
    "        self.directory = directory\n",
    "        self.batch_size = batch_size\n",
    "        self.shuffle = shuffle\n",
    "        self.num_classes = num_classes\n",
    "\n",
    "        # Create a list of tuples containing the file paths and labels for each file\n",
    "        self.data = []\n",
    "        for label in os.listdir(self.directory):\n",
    "            label_dir = os.path.join(self.directory, label)\n",
    "            for file in os.listdir(label_dir):\n",
    "                file_path = os.path.join(label_dir, file)\n",
    "                self.data.append((file_path, int(label)-71))\n",
    "\n",
    "        # Shuffle the list of tuples if shuffle is True\n",
    "        if self.shuffle:\n",
    "            np.random.shuffle(self.data)\n",
    "\n",
    "    def __len__(self):\n",
    "        return int(np.ceil(len(self.data) / float(self.batch_size)))\n",
    "\n",
    "    def __getitem__(self, idx):\n",
    "        # Get the file paths and labels for the current batch\n",
    "        batch_data = self.data[idx *\n",
    "                               self.batch_size:(idx + 1) * self.batch_size]\n",
    "        file_paths, labels = zip(*batch_data)\n",
    "\n",
    "        # Load the data for each file in the batch and convert the labels to categorical format\n",
    "        data = [np.load(file_path) for file_path in file_paths]\n",
    "        labels = keras.utils.to_categorical(labels, self.num_classes)\n",
    "\n",
    "        return np.array(data), np.array(labels)\n"
   ]
  },
  {
   "attachments": {},
   "cell_type": "markdown",
   "metadata": {},
   "source": [
    "### 1.a - To merge sequences and train the model on simultaneously on them, we created a custom sequence to merge two sequences"
   ]
  },
  {
   "cell_type": "code",
   "execution_count": 6,
   "metadata": {},
   "outputs": [],
   "source": [
    "import numpy as np\n",
    "from keras.utils import Sequence\n",
    "\n",
    "\n",
    "class MergedSequence(Sequence):\n",
    "    def __init__(self, sequence_1, sequence_2, batch_size=32):\n",
    "        self.sequence_1 = sequence_1\n",
    "        self.sequence_2 = sequence_2\n",
    "        self.batch_size = batch_size\n",
    "\n",
    "    def __len__(self):\n",
    "        # Return the length of the longer sequence\n",
    "        return max(len(self.sequence_1), len(self.sequence_2))\n",
    "\n",
    "    def __getitem__(self, idx):\n",
    "        # Get the data from the first sequence\n",
    "        data_1, labels_1 = self.sequence_1[idx]\n",
    "        data_2, labels_2 = self.sequence_2[idx]\n",
    "        return np.concatenate((data_1, data_2), axis=0), np.concatenate((labels_1, labels_2), axis=0)\n"
   ]
  },
  {
   "cell_type": "code",
   "execution_count": 7,
   "metadata": {},
   "outputs": [],
   "source": [
    "import numpy as np\n",
    "from keras.utils import Sequence\n",
    "\n",
    "\n",
    "class MultiSequence(Sequence):\n",
    "    def __init__(self, sequences, batch_size=32):\n",
    "        self.sequences = sequences\n",
    "        self.batch_size = batch_size\n",
    "\n",
    "    def __len__(self):\n",
    "        # Return the length of the longest sequence\n",
    "        return max(len(seq) for seq in self.sequences)\n",
    "\n",
    "    def __getitem__(self, idx):\n",
    "        # Get the data from all sequences\n",
    "        data = []\n",
    "        labels = []\n",
    "        for seq in self.sequences:\n",
    "            try:\n",
    "                data.append(seq[idx][0])\n",
    "                labels.append(seq[idx][1])\n",
    "            except Exception:\n",
    "                # If the index is out of bounds for a sequence, just skip it\n",
    "                pass\n",
    "        return np.concatenate(data, axis=0), np.concatenate(labels, axis=0)\n"
   ]
  },
  {
   "attachments": {},
   "cell_type": "markdown",
   "metadata": {},
   "source": [
    "# ` 2 - Model building `"
   ]
  },
  {
   "cell_type": "code",
   "execution_count": 8,
   "metadata": {},
   "outputs": [],
   "source": [
    "\n",
    "import tensorflow as tf\n",
    "from keras.layers import Embedding, Input, Dense, LSTM, Flatten, LayerNormalization, Dropout\n",
    "from keras_nlp.layers import TransformerEncoder, PositionEmbedding\n",
    "from keras import layers\n",
    "\n",
    "def initialize_model():\n",
    "    input_layer = Input(shape=(FRAMES, 2048))\n",
    "    reg = Dense(512, activation='relu')(input_layer)\n",
    "    embedding = PositionEmbedding(sequence_length=FRAMES)(reg)\n",
    "    t_encoder_output = TransformerEncoder(intermediate_dim=128, num_heads=64)(embedding)\n",
    "    concatenated = keras.layers.concatenate([input_layer, t_encoder_output])\n",
    "    reduced = layers.GlobalMaxPooling1D()(concatenated)\n",
    "    normalized = LayerNormalization()(reduced)\n",
    "    drop = Dropout(0.7)(normalized)\n",
    "    output_layer = Dense(100, activation='softmax')(drop)\n",
    "    model = tf.keras.Model(inputs=input_layer, outputs=output_layer)\n",
    "    return model\n",
    "\n"
   ]
  },
  {
   "attachments": {},
   "cell_type": "markdown",
   "metadata": {},
   "source": [
    "# ` 4 - Training `"
   ]
  },
  {
   "attachments": {},
   "cell_type": "markdown",
   "metadata": {},
   "source": [
    "## `a. Signer dependent`"
   ]
  },
  {
   "attachments": {},
   "cell_type": "markdown",
   "metadata": {},
   "source": [
    " ### `1 -> 1`"
   ]
  },
  {
   "cell_type": "code",
   "execution_count": 62,
   "metadata": {},
   "outputs": [
    {
     "ename": "FileNotFoundError",
     "evalue": "[Errno 2] No such file or directory: '../data/01_hand/train'",
     "output_type": "error",
     "traceback": [
      "\u001b[0;31m---------------------------------------------------------------------------\u001b[0m",
      "\u001b[0;31mFileNotFoundError\u001b[0m                         Traceback (most recent call last)",
      "Cell \u001b[0;32mIn[62], line 3\u001b[0m\n\u001b[1;32m      1\u001b[0m \u001b[39mimport\u001b[39;00m \u001b[39mmatplotlib\u001b[39;00m\u001b[39m.\u001b[39;00m\u001b[39mpyplot\u001b[39;00m \u001b[39mas\u001b[39;00m \u001b[39mplt\u001b[39;00m\n\u001b[0;32m----> 3\u001b[0m train \u001b[39m=\u001b[39m NpyDataGenerator(\n\u001b[1;32m      4\u001b[0m     \u001b[39m'\u001b[39;49m\u001b[39m../data/01_hand/train\u001b[39;49m\u001b[39m'\u001b[39;49m, batch_size\u001b[39m=\u001b[39;49m\u001b[39m32\u001b[39;49m, shuffle\u001b[39m=\u001b[39;49m\u001b[39mTrue\u001b[39;49;00m, num_classes\u001b[39m=\u001b[39;49m\u001b[39m100\u001b[39;49m)\n\u001b[1;32m      5\u001b[0m validation \u001b[39m=\u001b[39m NpyDataGenerator( \u001b[39m'\u001b[39m\u001b[39m../data/01_hand/validation\u001b[39m\u001b[39m'\u001b[39m, batch_size\u001b[39m=\u001b[39m\u001b[39m32\u001b[39m, shuffle\u001b[39m=\u001b[39m\u001b[39mTrue\u001b[39;00m, num_classes\u001b[39m=\u001b[39m\u001b[39m100\u001b[39m)\n",
      "Cell \u001b[0;32mIn[58], line 15\u001b[0m, in \u001b[0;36mNpyDataGenerator.__init__\u001b[0;34m(self, directory, batch_size, shuffle, num_classes)\u001b[0m\n\u001b[1;32m     13\u001b[0m \u001b[39m# Create a list of tuples containing the file paths and labels for each file\u001b[39;00m\n\u001b[1;32m     14\u001b[0m \u001b[39mself\u001b[39m\u001b[39m.\u001b[39mdata \u001b[39m=\u001b[39m []\n\u001b[0;32m---> 15\u001b[0m \u001b[39mfor\u001b[39;00m label \u001b[39min\u001b[39;00m os\u001b[39m.\u001b[39;49mlistdir(\u001b[39mself\u001b[39;49m\u001b[39m.\u001b[39;49mdirectory):\n\u001b[1;32m     16\u001b[0m     label_dir \u001b[39m=\u001b[39m os\u001b[39m.\u001b[39mpath\u001b[39m.\u001b[39mjoin(\u001b[39mself\u001b[39m\u001b[39m.\u001b[39mdirectory, label)\n\u001b[1;32m     17\u001b[0m     \u001b[39mfor\u001b[39;00m file \u001b[39min\u001b[39;00m os\u001b[39m.\u001b[39mlistdir(label_dir):\n",
      "\u001b[0;31mFileNotFoundError\u001b[0m: [Errno 2] No such file or directory: '../data/01_hand/train'"
     ]
    }
   ],
   "source": [
    "import matplotlib.pyplot as plt\n",
    "\n",
    "train = NpyDataGenerator(\n",
    "    '../data/01_hand/train', batch_size=32, shuffle=True, num_classes=100)\n",
    "validation = NpyDataGenerator( '../data/01_hand/validation', batch_size=32, shuffle=True, num_classes=100)"
   ]
  },
  {
   "cell_type": "code",
   "execution_count": null,
   "metadata": {},
   "outputs": [],
   "source": [
    "\n",
    "\n",
    "model = initialize_model()\n",
    "optimizer = keras.optimizers.Adam(learning_rate=1e-3)\n",
    "model.compile(optimizer=optimizer, loss='categorical_crossentropy', metrics=['accuracy'])\n",
    "history = model.fit(train, epochs= 30, validation_data=validation)\n",
    "plt.plot(history.history['loss'])"
   ]
  },
  {
   "cell_type": "code",
   "execution_count": 249,
   "metadata": {},
   "outputs": [
    {
     "name": "stdout",
     "output_type": "stream",
     "text": [
      "Epoch 1/20\n",
      "WARNING:tensorflow:Gradients do not exist for variables ['dense_41/kernel:0', 'dense_41/bias:0'] when minimizing the loss. If you're using `model.compile()`, did you forget to provide a `loss` argument?\n",
      "WARNING:tensorflow:Gradients do not exist for variables ['dense_41/kernel:0', 'dense_41/bias:0'] when minimizing the loss. If you're using `model.compile()`, did you forget to provide a `loss` argument?\n",
      "91/91 [==============================] - 5s 43ms/step - loss: 6.8502 - accuracy: 0.0138 - val_loss: 4.0744 - val_accuracy: 0.1298 - lr: 0.0010\n",
      "Epoch 2/20\n",
      "91/91 [==============================] - 2s 26ms/step - loss: 5.0056 - accuracy: 0.0596 - val_loss: 3.0561 - val_accuracy: 0.4693 - lr: 0.0011\n",
      "Epoch 3/20\n",
      "91/91 [==============================] - 3s 29ms/step - loss: 3.3175 - accuracy: 0.2144 - val_loss: 2.0421 - val_accuracy: 0.6719 - lr: 0.0013\n",
      "Epoch 4/20\n",
      "91/91 [==============================] - 3s 28ms/step - loss: 2.0241 - accuracy: 0.4926 - val_loss: 0.9732 - val_accuracy: 0.8930 - lr: 0.0014\n",
      "Epoch 5/20\n",
      "91/91 [==============================] - 3s 29ms/step - loss: 0.9874 - accuracy: 0.7477 - val_loss: 0.4879 - val_accuracy: 0.8930 - lr: 0.0016\n",
      "Epoch 6/20\n",
      "91/91 [==============================] - 4s 40ms/step - loss: 0.6139 - accuracy: 0.8128 - val_loss: 0.2235 - val_accuracy: 0.9529 - lr: 0.0018\n",
      "Epoch 7/20\n",
      "91/91 [==============================] - 2s 27ms/step - loss: 0.4107 - accuracy: 0.8759 - val_loss: 0.1789 - val_accuracy: 0.9586 - lr: 0.0020\n",
      "Epoch 8/20\n",
      "91/91 [==============================] - 2s 26ms/step - loss: 0.3082 - accuracy: 0.9083 - val_loss: 0.0841 - val_accuracy: 0.9757 - lr: 0.0022\n",
      "Epoch 9/20\n",
      "91/91 [==============================] - 2s 27ms/step - loss: 0.2429 - accuracy: 0.9311 - val_loss: 0.0732 - val_accuracy: 0.9815 - lr: 0.0025\n",
      "Epoch 10/20\n",
      "91/91 [==============================] - 2s 25ms/step - loss: 0.2259 - accuracy: 0.9304 - val_loss: 0.0843 - val_accuracy: 0.9715 - lr: 0.0028\n",
      "Epoch 11/20\n",
      "91/91 [==============================] - 2s 26ms/step - loss: 0.1952 - accuracy: 0.9407 - val_loss: 0.0427 - val_accuracy: 0.9914 - lr: 0.0032\n",
      "Epoch 12/20\n",
      "91/91 [==============================] - 2s 26ms/step - loss: 0.1039 - accuracy: 0.9683 - val_loss: 0.0776 - val_accuracy: 0.9757 - lr: 0.0035\n",
      "Epoch 13/20\n",
      "91/91 [==============================] - 2s 26ms/step - loss: 0.1090 - accuracy: 0.9676 - val_loss: 0.0232 - val_accuracy: 0.9957 - lr: 0.0040\n",
      "Epoch 14/20\n",
      "91/91 [==============================] - 2s 26ms/step - loss: 0.1069 - accuracy: 0.9686 - val_loss: 0.0179 - val_accuracy: 0.9986 - lr: 0.0045\n",
      "Epoch 15/20\n",
      "91/91 [==============================] - 2s 26ms/step - loss: 0.0665 - accuracy: 0.9821 - val_loss: 0.0598 - val_accuracy: 0.9800 - lr: 0.0050\n",
      "Epoch 16/20\n",
      "91/91 [==============================] - 2s 27ms/step - loss: 0.0853 - accuracy: 0.9759 - val_loss: 0.0194 - val_accuracy: 0.9957 - lr: 0.0056\n",
      "Epoch 17/20\n",
      "91/91 [==============================] - 3s 28ms/step - loss: 0.0920 - accuracy: 0.9731 - val_loss: 0.0874 - val_accuracy: 0.9786 - lr: 0.0063\n",
      "Epoch 18/20\n",
      "91/91 [==============================] - 3s 37ms/step - loss: 0.0865 - accuracy: 0.9783 - val_loss: 0.0402 - val_accuracy: 0.9914 - lr: 0.0071\n",
      "Epoch 19/20\n",
      "91/91 [==============================] - 2s 26ms/step - loss: 0.0601 - accuracy: 0.9848 - val_loss: 0.0147 - val_accuracy: 0.9971 - lr: 0.0079\n",
      "Epoch 20/20\n",
      "91/91 [==============================] - 2s 26ms/step - loss: 0.0949 - accuracy: 0.9735 - val_loss: 0.0213 - val_accuracy: 0.9943 - lr: 0.0089\n"
     ]
    },
    {
     "data": {
      "text/plain": [
       "[<matplotlib.lines.Line2D at 0x15f4d7784c0>]"
      ]
     },
     "execution_count": 249,
     "metadata": {},
     "output_type": "execute_result"
    },
    {
     "data": {
      "image/png": "[encoded data removed]",
      "text/plain": [
       "<Figure size 432x288 with 1 Axes>"
      ]
     },
     "metadata": {
      "needs_background": "light"
     },
     "output_type": "display_data"
    }
   ],
   "source": [
    "early_stopping = keras.callbacks.EarlyStopping(monitor='val_loss', patience=10, restore_best_weights=True)\n",
    "checkpoint = keras.callbacks.ModelCheckpoint('../models/01_on_01.h5', monitor='val_loss', save_best_only=True)\n",
    "lr_schedule = keras.callbacks.LearningRateScheduler(lambda epoch: 1e-3 * 10**(epoch / 20))\n",
    "model = initialize_model()\n",
    "optimizer = keras.optimizers.Adam(learning_rate=1e-3)\n",
    "model.compile(optimizer=optimizer, loss='categorical_crossentropy', metrics=['accuracy'])\n",
    "history = model.fit(train, epochs= 20, validation_data=validation, callbacks=[early_stopping, checkpoint, lr_schedule])\n",
    "plt.plot(history.history['loss'])"
   ]
  },
  {
   "cell_type": "code",
   "execution_count": 250,
   "metadata": {},
   "outputs": [
    {
     "name": "stdout",
     "output_type": "stream",
     "text": [
      "113/113 [==============================] - 4s 32ms/step - loss: 0.3542 - accuracy: 0.9323\n"
     ]
    },
    {
     "data": {
      "text/plain": [
       "[0.3541734516620636, 0.9322598576545715]"
      ]
     },
     "execution_count": 250,
     "metadata": {},
     "output_type": "execute_result"
    }
   ],
   "source": [
    "test = NpyDataGenerator('../data/01_hand/test', batch_size=32, shuffle=True, num_classes=100)\n",
    "model.evaluate(test)"
   ]
  },
  {
   "attachments": {},
   "cell_type": "markdown",
   "metadata": {},
   "source": [
    "### `2 -> 2`"
   ]
  },
  {
   "cell_type": "code",
   "execution_count": 251,
   "metadata": {},
   "outputs": [],
   "source": [
    "import matplotlib.pyplot as plt\n",
    "\n",
    "train = NpyDataGenerator(\n",
    "    '../data/02_hand/train', batch_size=32, shuffle=True, num_classes=100)\n",
    "validation = NpyDataGenerator( '../data/02_hand/validation', batch_size=32, shuffle=True, num_classes=100)"
   ]
  },
  {
   "cell_type": "code",
   "execution_count": 252,
   "metadata": {},
   "outputs": [
    {
     "name": "stdout",
     "output_type": "stream",
     "text": [
      "Epoch 1/30\n",
      "WARNING:tensorflow:Gradients do not exist for variables ['dense_43/kernel:0', 'dense_43/bias:0'] when minimizing the loss. If you're using `model.compile()`, did you forget to provide a `loss` argument?\n",
      "WARNING:tensorflow:Gradients do not exist for variables ['dense_43/kernel:0', 'dense_43/bias:0'] when minimizing the loss. If you're using `model.compile()`, did you forget to provide a `loss` argument?\n",
      "91/91 [==============================] - 27s 281ms/step - loss: 6.7302 - accuracy: 0.0145 - val_loss: 4.1983 - val_accuracy: 0.0471 - lr: 0.0010\n",
      "Epoch 2/30\n",
      "91/91 [==============================] - 3s 27ms/step - loss: 5.0993 - accuracy: 0.0576 - val_loss: 3.2686 - val_accuracy: 0.2268 - lr: 0.0011\n",
      "Epoch 3/30\n",
      "91/91 [==============================] - 2s 25ms/step - loss: 3.5106 - accuracy: 0.1889 - val_loss: 2.3965 - val_accuracy: 0.5706 - lr: 0.0013\n",
      "Epoch 4/30\n",
      "91/91 [==============================] - 2s 25ms/step - loss: 2.2751 - accuracy: 0.4505 - val_loss: 1.4458 - val_accuracy: 0.7261 - lr: 0.0014\n",
      "Epoch 5/30\n",
      "91/91 [==============================] - 2s 25ms/step - loss: 1.3335 - accuracy: 0.6605 - val_loss: 0.5690 - val_accuracy: 0.9116 - lr: 0.0016\n",
      "Epoch 6/30\n",
      "91/91 [==============================] - 2s 25ms/step - loss: 0.7519 - accuracy: 0.7901 - val_loss: 0.2773 - val_accuracy: 0.9472 - lr: 0.0018\n",
      "Epoch 7/30\n",
      "91/91 [==============================] - 2s 25ms/step - loss: 0.4827 - accuracy: 0.8638 - val_loss: 0.1729 - val_accuracy: 0.9615 - lr: 0.0020\n",
      "Epoch 8/30\n",
      "91/91 [==============================] - 2s 26ms/step - loss: 0.3812 - accuracy: 0.8845 - val_loss: 0.1549 - val_accuracy: 0.9558 - lr: 0.0022\n",
      "Epoch 9/30\n",
      "91/91 [==============================] - 2s 25ms/step - loss: 0.2999 - accuracy: 0.9087 - val_loss: 0.1147 - val_accuracy: 0.9729 - lr: 0.0025\n",
      "Epoch 10/30\n",
      "91/91 [==============================] - 2s 24ms/step - loss: 0.2049 - accuracy: 0.9362 - val_loss: 0.1192 - val_accuracy: 0.9757 - lr: 0.0028\n",
      "Epoch 11/30\n",
      "91/91 [==============================] - 2s 26ms/step - loss: 0.1708 - accuracy: 0.9476 - val_loss: 0.1014 - val_accuracy: 0.9700 - lr: 0.0032\n",
      "Epoch 12/30\n",
      "91/91 [==============================] - 2s 25ms/step - loss: 0.1474 - accuracy: 0.9566 - val_loss: 0.0542 - val_accuracy: 0.9900 - lr: 0.0035\n",
      "Epoch 13/30\n",
      "91/91 [==============================] - 2s 25ms/step - loss: 0.1114 - accuracy: 0.9700 - val_loss: 0.0522 - val_accuracy: 0.9872 - lr: 0.0040\n",
      "Epoch 14/30\n",
      "91/91 [==============================] - 2s 26ms/step - loss: 0.1056 - accuracy: 0.9676 - val_loss: 0.0670 - val_accuracy: 0.9800 - lr: 0.0045\n",
      "Epoch 15/30\n",
      "91/91 [==============================] - 3s 28ms/step - loss: 0.0961 - accuracy: 0.9731 - val_loss: 0.0517 - val_accuracy: 0.9872 - lr: 0.0050\n",
      "Epoch 16/30\n",
      "91/91 [==============================] - 2s 26ms/step - loss: 0.0636 - accuracy: 0.9831 - val_loss: 0.0820 - val_accuracy: 0.9815 - lr: 0.0056\n",
      "Epoch 17/30\n",
      "91/91 [==============================] - 2s 25ms/step - loss: 0.0889 - accuracy: 0.9752 - val_loss: 0.0532 - val_accuracy: 0.9872 - lr: 0.0063\n",
      "Epoch 18/30\n",
      "91/91 [==============================] - 2s 25ms/step - loss: 0.0711 - accuracy: 0.9800 - val_loss: 0.0684 - val_accuracy: 0.9872 - lr: 0.0071\n",
      "Epoch 19/30\n",
      "91/91 [==============================] - 2s 25ms/step - loss: 0.0573 - accuracy: 0.9824 - val_loss: 0.0742 - val_accuracy: 0.9829 - lr: 0.0079\n",
      "Epoch 20/30\n",
      "91/91 [==============================] - 2s 25ms/step - loss: 0.0664 - accuracy: 0.9810 - val_loss: 0.0572 - val_accuracy: 0.9872 - lr: 0.0089\n",
      "Epoch 21/30\n",
      "91/91 [==============================] - 2s 26ms/step - loss: 0.0920 - accuracy: 0.9772 - val_loss: 0.0476 - val_accuracy: 0.9886 - lr: 0.0100\n",
      "Epoch 22/30\n",
      "91/91 [==============================] - 2s 26ms/step - loss: 0.1330 - accuracy: 0.9704 - val_loss: 0.1260 - val_accuracy: 0.9729 - lr: 0.0112\n",
      "Epoch 23/30\n",
      "91/91 [==============================] - 2s 25ms/step - loss: 0.2355 - accuracy: 0.9511 - val_loss: 0.2004 - val_accuracy: 0.9601 - lr: 0.0126\n",
      "Epoch 24/30\n",
      "91/91 [==============================] - 2s 25ms/step - loss: 0.5222 - accuracy: 0.9066 - val_loss: 0.4295 - val_accuracy: 0.9315 - lr: 0.0141\n",
      "Epoch 25/30\n",
      "91/91 [==============================] - 2s 25ms/step - loss: 1.3992 - accuracy: 0.8511 - val_loss: 2.2039 - val_accuracy: 0.8631 - lr: 0.0158\n",
      "Epoch 26/30\n",
      "91/91 [==============================] - 2s 25ms/step - loss: 2.2919 - accuracy: 0.8425 - val_loss: 1.0043 - val_accuracy: 0.9344 - lr: 0.0178\n",
      "Epoch 27/30\n",
      "91/91 [==============================] - 2s 25ms/step - loss: 2.8285 - accuracy: 0.8687 - val_loss: 1.4666 - val_accuracy: 0.9315 - lr: 0.0200\n",
      "Epoch 28/30\n",
      "91/91 [==============================] - 2s 24ms/step - loss: 3.3379 - accuracy: 0.8711 - val_loss: 1.0178 - val_accuracy: 0.9558 - lr: 0.0224\n",
      "Epoch 29/30\n",
      "91/91 [==============================] - 2s 25ms/step - loss: 3.1375 - accuracy: 0.9035 - val_loss: 2.1653 - val_accuracy: 0.9344 - lr: 0.0251\n",
      "Epoch 30/30\n",
      "91/91 [==============================] - 2s 25ms/step - loss: 3.9204 - accuracy: 0.8887 - val_loss: 2.6808 - val_accuracy: 0.9315 - lr: 0.0282\n"
     ]
    },
    {
     "data": {
      "text/plain": [
       "[<matplotlib.lines.Line2D at 0x15f4d800460>]"
      ]
     },
     "execution_count": 252,
     "metadata": {},
     "output_type": "execute_result"
    },
    {
     "data": {
      "image/png": "[encoded data removed]",
      "text/plain": [
       "<Figure size 432x288 with 1 Axes>"
      ]
     },
     "metadata": {
      "needs_background": "light"
     },
     "output_type": "display_data"
    }
   ],
   "source": [
    "early_stopping = keras.callbacks.EarlyStopping(monitor='val_loss', patience=5, restore_best_weights=True)\n",
    "checkpoint = keras.callbacks.ModelCheckpoint('../models/02_on_02.h5', monitor='val_loss', save_best_only=True)\n",
    "lr_schedule = keras.callbacks.LearningRateScheduler(lambda epoch: 1e-3 * 10**(epoch / 20))\n",
    "\n",
    "model = initialize_model()\n",
    "optimizer = keras.optimizers.Adam(learning_rate=1e-3)\n",
    "model.compile(optimizer=optimizer, loss='categorical_crossentropy', metrics=['accuracy'])\n",
    "history = model.fit(train, epochs= 30, validation_data=validation, callbacks=[early_stopping, checkpoint, lr_schedule])\n",
    "plt.plot(history.history['loss'])"
   ]
  },
  {
   "cell_type": "code",
   "execution_count": 253,
   "metadata": {},
   "outputs": [
    {
     "name": "stdout",
     "output_type": "stream",
     "text": [
      "113/113 [==============================] - 3s 30ms/step - loss: 2.7301 - accuracy: 0.9289\n"
     ]
    },
    {
     "data": {
      "text/plain": [
       "[2.7301065921783447, 0.9289283752441406]"
      ]
     },
     "execution_count": 253,
     "metadata": {},
     "output_type": "execute_result"
    }
   ],
   "source": [
    "test = NpyDataGenerator('../data/02_hand/test', batch_size=32, shuffle=True, num_classes=100)\n",
    "model.evaluate(test)"
   ]
  },
  {
   "attachments": {},
   "cell_type": "markdown",
   "metadata": {},
   "source": [
    "### `3 -> 3`"
   ]
  },
  {
   "cell_type": "code",
   "execution_count": 254,
   "metadata": {},
   "outputs": [
    {
     "name": "stdout",
     "output_type": "stream",
     "text": [
      "Epoch 1/30\n",
      "WARNING:tensorflow:Gradients do not exist for variables ['dense_45/kernel:0', 'dense_45/bias:0'] when minimizing the loss. If you're using `model.compile()`, did you forget to provide a `loss` argument?\n",
      "WARNING:tensorflow:Gradients do not exist for variables ['dense_45/kernel:0', 'dense_45/bias:0'] when minimizing the loss. If you're using `model.compile()`, did you forget to provide a `loss` argument?\n",
      "91/91 [==============================] - 16s 160ms/step - loss: 6.7155 - accuracy: 0.0179 - val_loss: 4.2075 - val_accuracy: 0.0713 - lr: 0.0010\n",
      "Epoch 2/30\n",
      "91/91 [==============================] - 4s 39ms/step - loss: 4.9320 - accuracy: 0.0586 - val_loss: 3.0673 - val_accuracy: 0.4536 - lr: 0.0011\n",
      "Epoch 3/30\n",
      "91/91 [==============================] - 3s 28ms/step - loss: 3.2856 - accuracy: 0.2234 - val_loss: 2.0202 - val_accuracy: 0.7247 - lr: 0.0013\n",
      "Epoch 4/30\n",
      "91/91 [==============================] - 2s 26ms/step - loss: 1.9307 - accuracy: 0.5319 - val_loss: 1.0547 - val_accuracy: 0.8302 - lr: 0.0014\n",
      "Epoch 5/30\n",
      "91/91 [==============================] - 2s 26ms/step - loss: 1.0266 - accuracy: 0.7342 - val_loss: 0.3486 - val_accuracy: 0.9558 - lr: 0.0016\n",
      "Epoch 6/30\n",
      "91/91 [==============================] - 2s 26ms/step - loss: 0.5742 - accuracy: 0.8345 - val_loss: 0.2195 - val_accuracy: 0.9458 - lr: 0.0018\n",
      "Epoch 7/30\n",
      "91/91 [==============================] - 2s 26ms/step - loss: 0.3866 - accuracy: 0.8856 - val_loss: 0.1501 - val_accuracy: 0.9672 - lr: 0.0020\n",
      "Epoch 8/30\n",
      "91/91 [==============================] - 2s 26ms/step - loss: 0.3112 - accuracy: 0.9066 - val_loss: 0.0812 - val_accuracy: 0.9800 - lr: 0.0022\n",
      "Epoch 9/30\n",
      "91/91 [==============================] - 2s 26ms/step - loss: 0.2303 - accuracy: 0.9338 - val_loss: 0.0449 - val_accuracy: 0.9943 - lr: 0.0025\n",
      "Epoch 10/30\n",
      "91/91 [==============================] - 2s 25ms/step - loss: 0.1841 - accuracy: 0.9455 - val_loss: 0.0851 - val_accuracy: 0.9772 - lr: 0.0028\n",
      "Epoch 11/30\n",
      "91/91 [==============================] - 2s 24ms/step - loss: 0.1470 - accuracy: 0.9590 - val_loss: 0.0550 - val_accuracy: 0.9843 - lr: 0.0032\n",
      "Epoch 12/30\n",
      "91/91 [==============================] - 2s 25ms/step - loss: 0.1511 - accuracy: 0.9559 - val_loss: 0.0416 - val_accuracy: 0.9914 - lr: 0.0035\n",
      "Epoch 13/30\n",
      "91/91 [==============================] - 2s 26ms/step - loss: 0.1169 - accuracy: 0.9659 - val_loss: 0.0329 - val_accuracy: 0.9886 - lr: 0.0040\n",
      "Epoch 14/30\n",
      "91/91 [==============================] - 2s 25ms/step - loss: 0.0844 - accuracy: 0.9766 - val_loss: 0.0273 - val_accuracy: 0.9872 - lr: 0.0045\n",
      "Epoch 15/30\n",
      "91/91 [==============================] - 2s 25ms/step - loss: 0.0853 - accuracy: 0.9772 - val_loss: 0.0192 - val_accuracy: 0.9957 - lr: 0.0050\n",
      "Epoch 16/30\n",
      "91/91 [==============================] - 2s 25ms/step - loss: 0.0721 - accuracy: 0.9786 - val_loss: 0.0220 - val_accuracy: 0.9957 - lr: 0.0056\n",
      "Epoch 17/30\n",
      "91/91 [==============================] - 2s 24ms/step - loss: 0.0640 - accuracy: 0.9807 - val_loss: 0.0353 - val_accuracy: 0.9900 - lr: 0.0063\n",
      "Epoch 18/30\n",
      "91/91 [==============================] - 2s 24ms/step - loss: 0.0689 - accuracy: 0.9817 - val_loss: 0.0763 - val_accuracy: 0.9857 - lr: 0.0071\n",
      "Epoch 19/30\n",
      "91/91 [==============================] - 2s 25ms/step - loss: 0.0713 - accuracy: 0.9807 - val_loss: 0.0275 - val_accuracy: 0.9886 - lr: 0.0079\n",
      "Epoch 20/30\n",
      "91/91 [==============================] - 2s 24ms/step - loss: 0.1104 - accuracy: 0.9731 - val_loss: 0.0213 - val_accuracy: 0.9929 - lr: 0.0089\n",
      "Epoch 21/30\n",
      "91/91 [==============================] - 2s 24ms/step - loss: 0.1778 - accuracy: 0.9704 - val_loss: 0.0963 - val_accuracy: 0.9829 - lr: 0.0100\n",
      "Epoch 22/30\n",
      "91/91 [==============================] - 2s 24ms/step - loss: 0.1959 - accuracy: 0.9566 - val_loss: 0.1424 - val_accuracy: 0.9601 - lr: 0.0112\n",
      "Epoch 23/30\n",
      "91/91 [==============================] - 2s 27ms/step - loss: 0.2537 - accuracy: 0.9469 - val_loss: 0.0742 - val_accuracy: 0.9786 - lr: 0.0126\n",
      "Epoch 24/30\n",
      "91/91 [==============================] - 2s 25ms/step - loss: 0.3708 - accuracy: 0.9297 - val_loss: 0.3561 - val_accuracy: 0.9629 - lr: 0.0141\n",
      "Epoch 25/30\n",
      "91/91 [==============================] - 2s 25ms/step - loss: 0.9056 - accuracy: 0.8918 - val_loss: 0.4037 - val_accuracy: 0.9458 - lr: 0.0158\n"
     ]
    },
    {
     "data": {
      "text/plain": [
       "[<matplotlib.lines.Line2D at 0x15f4c63b7c0>]"
      ]
     },
     "execution_count": 254,
     "metadata": {},
     "output_type": "execute_result"
    },
    {
     "data": {
      "image/png": "[encoded data removed]",
      "text/plain": [
       "<Figure size 432x288 with 1 Axes>"
      ]
     },
     "metadata": {
      "needs_background": "light"
     },
     "output_type": "display_data"
    }
   ],
   "source": [
    "train = NpyDataGenerator(\n",
    "    '../data/03_hand/train', batch_size=32, shuffle=True, num_classes=100)\n",
    "validation = NpyDataGenerator( '../data/03_hand/validation', batch_size=32, shuffle=True, num_classes=100)\n",
    "\n",
    "early_stopping = keras.callbacks.EarlyStopping(monitor='val_loss', patience=10, restore_best_weights=True)\n",
    "checkpoint = keras.callbacks.ModelCheckpoint('../models/03_on_03.h5', monitor='val_loss', save_best_only=True)\n",
    "lr_schedule = keras.callbacks.LearningRateScheduler(lambda epoch: 1e-3 * 10**(epoch / 20))\n",
    "\n",
    "model = initialize_model()\n",
    "optimizer = keras.optimizers.Adam(learning_rate=1e-3)\n",
    "model.compile(optimizer=optimizer, loss='categorical_crossentropy', metrics=['accuracy'])\n",
    "history = model.fit(train, epochs= 30, validation_data=validation, callbacks=[early_stopping, checkpoint, lr_schedule])\n",
    "plt.plot(history.history['loss'])"
   ]
  },
  {
   "cell_type": "code",
   "execution_count": 255,
   "metadata": {},
   "outputs": [
    {
     "name": "stdout",
     "output_type": "stream",
     "text": [
      "113/113 [==============================] - 8s 71ms/step - loss: 0.0367 - accuracy: 0.9900\n"
     ]
    },
    {
     "data": {
      "text/plain": [
       "[0.036682091653347015, 0.9900055527687073]"
      ]
     },
     "execution_count": 255,
     "metadata": {},
     "output_type": "execute_result"
    }
   ],
   "source": [
    "test = NpyDataGenerator('../data/03_hand/test', batch_size=32, shuffle=True, num_classes=100)\n",
    "model.evaluate(test)"
   ]
  },
  {
   "attachments": {},
   "cell_type": "markdown",
   "metadata": {},
   "source": [
    "## ` b. Signer independent `"
   ]
  },
  {
   "attachments": {},
   "cell_type": "markdown",
   "metadata": {},
   "source": [
    "### `03 + 02 -> 01`"
   ]
  },
  {
   "cell_type": "code",
   "execution_count": 256,
   "metadata": {},
   "outputs": [],
   "source": [
    "import matplotlib.pyplot as plt\n",
    "\n",
    "train_02 = NpyDataGenerator(\n",
    "    '../data/02_hand/train', batch_size=32, shuffle=True, num_classes=100)\n",
    "train_03 = NpyDataGenerator(\n",
    "    '../data/03_hand/train', batch_size=32, shuffle=True, num_classes=100)\n",
    "val_02 = NpyDataGenerator(\n",
    "    '../data/02_hand/validation', batch_size=32, shuffle=True, num_classes=100)\n",
    "val_03 = NpyDataGenerator(\n",
    "    '../data/03_hand/validation', batch_size=32, shuffle=True, num_classes=100)\n",
    "\n",
    "validation = NpyDataGenerator( '../data/01_hand/validation', batch_size=32, shuffle=True, num_classes=100)\n",
    "\n",
    "merged = MultiSequence([train_02, train_03, val_02, val_03], batch_size=32)"
   ]
  },
  {
   "cell_type": "code",
   "execution_count": 257,
   "metadata": {},
   "outputs": [
    {
     "name": "stdout",
     "output_type": "stream",
     "text": [
      "Epoch 1/30\n",
      "WARNING:tensorflow:Gradients do not exist for variables ['dense_47/kernel:0', 'dense_47/bias:0'] when minimizing the loss. If you're using `model.compile()`, did you forget to provide a `loss` argument?\n",
      "WARNING:tensorflow:Gradients do not exist for variables ['dense_47/kernel:0', 'dense_47/bias:0'] when minimizing the loss. If you're using `model.compile()`, did you forget to provide a `loss` argument?\n",
      "91/91 [==============================] - 11s 111ms/step - loss: 6.2624 - accuracy: 0.0196 - val_loss: 4.0461 - val_accuracy: 0.0699 - lr: 0.0010\n",
      "Epoch 2/30\n",
      "91/91 [==============================] - 10s 105ms/step - loss: 4.0554 - accuracy: 0.1088 - val_loss: 3.2013 - val_accuracy: 0.3210 - lr: 0.0011\n",
      "Epoch 3/30\n",
      "91/91 [==============================] - 9s 94ms/step - loss: 2.6551 - accuracy: 0.3454 - val_loss: 2.4243 - val_accuracy: 0.4907 - lr: 0.0013\n",
      "Epoch 4/30\n",
      "91/91 [==============================] - 10s 110ms/step - loss: 1.7058 - accuracy: 0.5453 - val_loss: 1.9577 - val_accuracy: 0.5078 - lr: 0.0014\n",
      "Epoch 5/30\n",
      "91/91 [==============================] - 8s 88ms/step - loss: 1.0501 - accuracy: 0.7050 - val_loss: 1.7897 - val_accuracy: 0.5934 - lr: 0.0016\n",
      "Epoch 6/30\n",
      "91/91 [==============================] - 10s 114ms/step - loss: 0.7281 - accuracy: 0.7818 - val_loss: 1.8164 - val_accuracy: 0.5563 - lr: 0.0018\n",
      "Epoch 7/30\n",
      "91/91 [==============================] - 8s 87ms/step - loss: 0.5063 - accuracy: 0.8436 - val_loss: 1.7137 - val_accuracy: 0.6034 - lr: 0.0020\n",
      "Epoch 8/30\n",
      "91/91 [==============================] - 10s 115ms/step - loss: 0.3799 - accuracy: 0.8853 - val_loss: 1.6810 - val_accuracy: 0.6476 - lr: 0.0022\n",
      "Epoch 9/30\n",
      "91/91 [==============================] - 9s 97ms/step - loss: 0.3010 - accuracy: 0.9091 - val_loss: 1.7714 - val_accuracy: 0.6534 - lr: 0.0025\n",
      "Epoch 10/30\n",
      "91/91 [==============================] - 10s 110ms/step - loss: 0.2503 - accuracy: 0.9223 - val_loss: 1.6407 - val_accuracy: 0.6377 - lr: 0.0028\n",
      "Epoch 11/30\n",
      "91/91 [==============================] - 9s 101ms/step - loss: 0.1963 - accuracy: 0.9423 - val_loss: 1.7101 - val_accuracy: 0.6633 - lr: 0.0032\n",
      "Epoch 12/30\n",
      "91/91 [==============================] - 10s 106ms/step - loss: 0.1687 - accuracy: 0.9521 - val_loss: 1.7741 - val_accuracy: 0.6591 - lr: 0.0035\n",
      "Epoch 13/30\n",
      "91/91 [==============================] - 9s 104ms/step - loss: 0.1499 - accuracy: 0.9552 - val_loss: 1.7926 - val_accuracy: 0.6505 - lr: 0.0040\n",
      "Epoch 14/30\n",
      "91/91 [==============================] - 8s 90ms/step - loss: 0.1406 - accuracy: 0.9603 - val_loss: 1.8125 - val_accuracy: 0.6419 - lr: 0.0045\n",
      "Epoch 15/30\n",
      "91/91 [==============================] - 9s 101ms/step - loss: 0.1213 - accuracy: 0.9656 - val_loss: 1.8458 - val_accuracy: 0.6491 - lr: 0.0050\n",
      "Epoch 16/30\n",
      "91/91 [==============================] - 10s 113ms/step - loss: 0.1154 - accuracy: 0.9660 - val_loss: 1.8983 - val_accuracy: 0.6576 - lr: 0.0056\n",
      "Epoch 17/30\n",
      "91/91 [==============================] - 9s 97ms/step - loss: 0.1045 - accuracy: 0.9715 - val_loss: 1.8933 - val_accuracy: 0.6676 - lr: 0.0063\n",
      "Epoch 18/30\n",
      "91/91 [==============================] - 11s 115ms/step - loss: 0.0915 - accuracy: 0.9736 - val_loss: 2.0008 - val_accuracy: 0.6334 - lr: 0.0071\n",
      "Epoch 19/30\n",
      "91/91 [==============================] - 8s 90ms/step - loss: 0.1074 - accuracy: 0.9710 - val_loss: 2.1276 - val_accuracy: 0.6576 - lr: 0.0079\n",
      "Epoch 20/30\n",
      "91/91 [==============================] - 10s 115ms/step - loss: 0.1259 - accuracy: 0.9627 - val_loss: 2.1729 - val_accuracy: 0.6476 - lr: 0.0089\n"
     ]
    },
    {
     "data": {
      "text/plain": [
       "[<matplotlib.lines.Line2D at 0x15f506faf50>]"
      ]
     },
     "execution_count": 257,
     "metadata": {},
     "output_type": "execute_result"
    },
    {
     "data": {
      "image/png": "[encoded data removed]",
      "text/plain": [
       "<Figure size 432x288 with 1 Axes>"
      ]
     },
     "metadata": {
      "needs_background": "light"
     },
     "output_type": "display_data"
    }
   ],
   "source": [
    "early_stopping = keras.callbacks.EarlyStopping(monitor='val_loss', patience=10, restore_best_weights=True)\n",
    "checkpoint = keras.callbacks.ModelCheckpoint('../models/02+03_on_01.h5', monitor='val_loss', save_best_only=True)\n",
    "lr_schedule = keras.callbacks.LearningRateScheduler(lambda epoch: 1e-3 * 10**(epoch / 20))\n",
    "\n",
    "model = initialize_model()\n",
    "optimizer = keras.optimizers.Adam(learning_rate=1e-3)\n",
    "model.compile(optimizer=optimizer, loss='categorical_crossentropy', metrics=['accuracy'])\n",
    "history = model.fit(merged, epochs= 30, validation_data=validation, callbacks=[early_stopping, checkpoint, lr_schedule])\n",
    "plt.plot(history.history['loss'])"
   ]
  },
  {
   "cell_type": "code",
   "execution_count": 258,
   "metadata": {},
   "outputs": [
    {
     "name": "stdout",
     "output_type": "stream",
     "text": [
      "113/113 [==============================] - 3s 30ms/step - loss: 2.0991 - accuracy: 0.6385\n"
     ]
    },
    {
     "data": {
      "text/plain": [
       "[2.0990641117095947, 0.6385341286659241]"
      ]
     },
     "execution_count": 258,
     "metadata": {},
     "output_type": "execute_result"
    }
   ],
   "source": [
    "test = NpyDataGenerator('../data/01_hand/test', batch_size=32, shuffle=True, num_classes=100)\n",
    "model.evaluate(test)"
   ]
  },
  {
   "attachments": {},
   "cell_type": "markdown",
   "metadata": {},
   "source": [
    "### ` 03 + 01 -> 02`"
   ]
  },
  {
   "cell_type": "code",
   "execution_count": 259,
   "metadata": {},
   "outputs": [],
   "source": [
    "import matplotlib.pyplot as plt\n",
    "\n",
    "train_03 = NpyDataGenerator(\n",
    "    '../data/03_hand/train', batch_size=32, shuffle=True, num_classes=100)\n",
    "train_01 = NpyDataGenerator(\n",
    "    '../data/01_hand/train', batch_size=32, shuffle=True, num_classes=100)\n",
    "val_03 = NpyDataGenerator(\n",
    "    '../data/03_hand/validation', batch_size=32, shuffle=True, num_classes=100)\n",
    "val_01 = NpyDataGenerator(\n",
    "    '../data/01_hand/validation', batch_size=32, shuffle=True, num_classes=100)\n",
    "\n",
    "validation = NpyDataGenerator( '../data/02_hand/validation', batch_size=32, shuffle=True, num_classes=100)\n",
    "\n",
    "merged = MultiSequence([train_01, train_03, val_01, val_03], batch_size=32)"
   ]
  },
  {
   "cell_type": "code",
   "execution_count": 260,
   "metadata": {},
   "outputs": [
    {
     "name": "stdout",
     "output_type": "stream",
     "text": [
      "Epoch 1/30\n",
      "WARNING:tensorflow:Gradients do not exist for variables ['dense_49/kernel:0', 'dense_49/bias:0'] when minimizing the loss. If you're using `model.compile()`, did you forget to provide a `loss` argument?\n",
      "WARNING:tensorflow:Gradients do not exist for variables ['dense_49/kernel:0', 'dense_49/bias:0'] when minimizing the loss. If you're using `model.compile()`, did you forget to provide a `loss` argument?\n",
      "91/91 [==============================] - 29s 308ms/step - loss: 6.3236 - accuracy: 0.0167 - val_loss: 4.0326 - val_accuracy: 0.0984 - lr: 0.0010\n",
      "Epoch 2/30\n",
      "91/91 [==============================] - 10s 113ms/step - loss: 4.0041 - accuracy: 0.1187 - val_loss: 3.2379 - val_accuracy: 0.3352 - lr: 0.0011\n",
      "Epoch 3/30\n",
      "91/91 [==============================] - 11s 116ms/step - loss: 2.6104 - accuracy: 0.3558 - val_loss: 2.5394 - val_accuracy: 0.3652 - lr: 0.0013\n",
      "Epoch 4/30\n",
      "91/91 [==============================] - 9s 101ms/step - loss: 1.6316 - accuracy: 0.5647 - val_loss: 1.9835 - val_accuracy: 0.4936 - lr: 0.0014\n",
      "Epoch 5/30\n",
      "91/91 [==============================] - 10s 110ms/step - loss: 0.9893 - accuracy: 0.7163 - val_loss: 1.8217 - val_accuracy: 0.5435 - lr: 0.0016\n",
      "Epoch 6/30\n",
      "91/91 [==============================] - 11s 120ms/step - loss: 0.6588 - accuracy: 0.8014 - val_loss: 1.8588 - val_accuracy: 0.5364 - lr: 0.0018\n",
      "Epoch 7/30\n",
      "91/91 [==============================] - 10s 108ms/step - loss: 0.4807 - accuracy: 0.8534 - val_loss: 1.7640 - val_accuracy: 0.5635 - lr: 0.0020\n",
      "Epoch 8/30\n",
      "91/91 [==============================] - 10s 113ms/step - loss: 0.3787 - accuracy: 0.8808 - val_loss: 1.8034 - val_accuracy: 0.5678 - lr: 0.0022\n",
      "Epoch 9/30\n",
      "91/91 [==============================] - 9s 100ms/step - loss: 0.2894 - accuracy: 0.9107 - val_loss: 1.7981 - val_accuracy: 0.5906 - lr: 0.0025\n",
      "Epoch 10/30\n",
      "91/91 [==============================] - 10s 106ms/step - loss: 0.2155 - accuracy: 0.9336 - val_loss: 1.7651 - val_accuracy: 0.6049 - lr: 0.0028\n",
      "Epoch 11/30\n",
      "91/91 [==============================] - 9s 95ms/step - loss: 0.1860 - accuracy: 0.9414 - val_loss: 1.9305 - val_accuracy: 0.5720 - lr: 0.0032\n",
      "Epoch 12/30\n",
      "91/91 [==============================] - 11s 114ms/step - loss: 0.1516 - accuracy: 0.9535 - val_loss: 1.9163 - val_accuracy: 0.5877 - lr: 0.0035\n",
      "Epoch 13/30\n",
      "91/91 [==============================] - 8s 88ms/step - loss: 0.1398 - accuracy: 0.9593 - val_loss: 1.7832 - val_accuracy: 0.6077 - lr: 0.0040\n",
      "Epoch 14/30\n",
      "91/91 [==============================] - 8s 91ms/step - loss: 0.1170 - accuracy: 0.9659 - val_loss: 1.7557 - val_accuracy: 0.6006 - lr: 0.0045\n",
      "Epoch 15/30\n",
      "91/91 [==============================] - 10s 113ms/step - loss: 0.1107 - accuracy: 0.9677 - val_loss: 1.7874 - val_accuracy: 0.6177 - lr: 0.0050\n",
      "Epoch 16/30\n",
      "91/91 [==============================] - 9s 96ms/step - loss: 0.1011 - accuracy: 0.9718 - val_loss: 1.8384 - val_accuracy: 0.6063 - lr: 0.0056\n",
      "Epoch 17/30\n",
      "91/91 [==============================] - 8s 88ms/step - loss: 0.0825 - accuracy: 0.9765 - val_loss: 1.7590 - val_accuracy: 0.6148 - lr: 0.0063\n",
      "Epoch 18/30\n",
      "91/91 [==============================] - 9s 101ms/step - loss: 0.0759 - accuracy: 0.9771 - val_loss: 1.9269 - val_accuracy: 0.6191 - lr: 0.0071\n",
      "Epoch 19/30\n",
      "91/91 [==============================] - 9s 104ms/step - loss: 0.0835 - accuracy: 0.9770 - val_loss: 2.0779 - val_accuracy: 0.5963 - lr: 0.0079\n",
      "Epoch 20/30\n",
      "91/91 [==============================] - 9s 97ms/step - loss: 0.0940 - accuracy: 0.9736 - val_loss: 2.1513 - val_accuracy: 0.6006 - lr: 0.0089\n",
      "Epoch 21/30\n",
      "91/91 [==============================] - 10s 115ms/step - loss: 0.1321 - accuracy: 0.9581 - val_loss: 2.1974 - val_accuracy: 0.5906 - lr: 0.0100\n",
      "Epoch 22/30\n",
      "91/91 [==============================] - 8s 91ms/step - loss: 0.1785 - accuracy: 0.9514 - val_loss: 2.6621 - val_accuracy: 0.5977 - lr: 0.0112\n",
      "Epoch 23/30\n",
      "91/91 [==============================] - 10s 115ms/step - loss: 0.2660 - accuracy: 0.9382 - val_loss: 3.1198 - val_accuracy: 0.5421 - lr: 0.0126\n",
      "Epoch 24/30\n",
      "91/91 [==============================] - 8s 90ms/step - loss: 0.3488 - accuracy: 0.9231 - val_loss: 4.8242 - val_accuracy: 0.5207 - lr: 0.0141\n"
     ]
    },
    {
     "data": {
      "text/plain": [
       "[<matplotlib.lines.Line2D at 0x15f124ffc10>]"
      ]
     },
     "execution_count": 260,
     "metadata": {},
     "output_type": "execute_result"
    },
    {
     "data": {
      "image/png": "[encoded data removed]",
      "text/plain": [
       "<Figure size 432x288 with 1 Axes>"
      ]
     },
     "metadata": {
      "needs_background": "light"
     },
     "output_type": "display_data"
    }
   ],
   "source": [
    "early_stopping = keras.callbacks.EarlyStopping(monitor='val_loss', patience=10, restore_best_weights=True)\n",
    "checkpoint = keras.callbacks.ModelCheckpoint('../models/02+03_on_01.h5', monitor='val_loss', save_best_only=True)\n",
    "lr_schedule = keras.callbacks.LearningRateScheduler(lambda epoch: 1e-3 * 10**(epoch / 20))\n",
    "\n",
    "model = initialize_model()\n",
    "optimizer = keras.optimizers.Adam(learning_rate=1e-3)\n",
    "model.compile(optimizer=optimizer, loss='categorical_crossentropy', metrics=['accuracy'])\n",
    "history = model.fit(merged, epochs= 30, validation_data=validation, callbacks=[early_stopping, checkpoint, lr_schedule])\n",
    "plt.plot(history.history['loss'])"
   ]
  },
  {
   "cell_type": "code",
   "execution_count": 261,
   "metadata": {},
   "outputs": [
    {
     "name": "stdout",
     "output_type": "stream",
     "text": [
      "113/113 [==============================] - 4s 35ms/step - loss: 1.8721 - accuracy: 0.6094\n"
     ]
    },
    {
     "data": {
      "text/plain": [
       "[1.872089147567749, 0.6093837022781372]"
      ]
     },
     "execution_count": 261,
     "metadata": {},
     "output_type": "execute_result"
    }
   ],
   "source": [
    "test = NpyDataGenerator('../data/02_hand/test', batch_size=32, shuffle=True, num_classes=100)\n",
    "model.evaluate(test)"
   ]
  },
  {
   "attachments": {},
   "cell_type": "markdown",
   "metadata": {},
   "source": [
    "### ` 02 + 01 -> 03`"
   ]
  },
  {
   "cell_type": "code",
   "execution_count": 262,
   "metadata": {},
   "outputs": [],
   "source": [
    "import matplotlib.pyplot as plt\n",
    "\n",
    "train_02 = NpyDataGenerator(\n",
    "    '../data/02_hand/train', batch_size=32, shuffle=True, num_classes=100)\n",
    "train_01 = NpyDataGenerator(\n",
    "    '../data/01_hand/train', batch_size=32, shuffle=True, num_classes=100)\n",
    "val_02 = NpyDataGenerator(\n",
    "    '../data/02_hand/validation', batch_size=32, shuffle=True, num_classes=100)\n",
    "val_01 = NpyDataGenerator(\n",
    "    '../data/01_hand/validation', batch_size=32, shuffle=True, num_classes=100)\n",
    "\n",
    "validation = NpyDataGenerator( '../data/03_hand/validation', batch_size=32, shuffle=True, num_classes=100)\n",
    "\n",
    "merged = MultiSequence([train_01, train_02, val_01, val_02], batch_size=32)"
   ]
  },
  {
   "cell_type": "code",
   "execution_count": 263,
   "metadata": {},
   "outputs": [
    {
     "name": "stdout",
     "output_type": "stream",
     "text": [
      "Epoch 1/30\n",
      "WARNING:tensorflow:Gradients do not exist for variables ['dense_51/kernel:0', 'dense_51/bias:0'] when minimizing the loss. If you're using `model.compile()`, did you forget to provide a `loss` argument?\n",
      "WARNING:tensorflow:Gradients do not exist for variables ['dense_51/kernel:0', 'dense_51/bias:0'] when minimizing the loss. If you're using `model.compile()`, did you forget to provide a `loss` argument?\n",
      "91/91 [==============================] - 13s 122ms/step - loss: 6.2910 - accuracy: 0.0176 - val_loss: 4.0125 - val_accuracy: 0.1498 - lr: 0.0010\n",
      "Epoch 2/30\n",
      "91/91 [==============================] - 8s 88ms/step - loss: 4.0428 - accuracy: 0.1144 - val_loss: 3.2301 - val_accuracy: 0.2796 - lr: 0.0011\n",
      "Epoch 3/30\n",
      "91/91 [==============================] - 9s 98ms/step - loss: 2.6667 - accuracy: 0.3538 - val_loss: 2.3751 - val_accuracy: 0.4793 - lr: 0.0013\n",
      "Epoch 4/30\n",
      "91/91 [==============================] - 9s 104ms/step - loss: 1.6760 - accuracy: 0.5600 - val_loss: 1.8722 - val_accuracy: 0.4936 - lr: 0.0014\n",
      "Epoch 5/30\n",
      "91/91 [==============================] - 8s 88ms/step - loss: 1.0330 - accuracy: 0.7100 - val_loss: 1.6711 - val_accuracy: 0.5492 - lr: 0.0016\n",
      "Epoch 6/30\n",
      "91/91 [==============================] - 8s 89ms/step - loss: 0.7100 - accuracy: 0.7903 - val_loss: 1.5949 - val_accuracy: 0.5792 - lr: 0.0018\n",
      "Epoch 7/30\n",
      "91/91 [==============================] - 10s 114ms/step - loss: 0.5189 - accuracy: 0.8455 - val_loss: 1.6208 - val_accuracy: 0.5749 - lr: 0.0020\n",
      "Epoch 8/30\n",
      "91/91 [==============================] - 9s 94ms/step - loss: 0.3767 - accuracy: 0.8824 - val_loss: 1.5837 - val_accuracy: 0.5820 - lr: 0.0022\n",
      "Epoch 9/30\n",
      "91/91 [==============================] - 8s 90ms/step - loss: 0.3111 - accuracy: 0.9060 - val_loss: 1.5907 - val_accuracy: 0.6034 - lr: 0.0025\n",
      "Epoch 10/30\n",
      "91/91 [==============================] - 9s 101ms/step - loss: 0.2553 - accuracy: 0.9241 - val_loss: 1.5420 - val_accuracy: 0.6234 - lr: 0.0028\n",
      "Epoch 11/30\n",
      "91/91 [==============================] - 9s 100ms/step - loss: 0.1880 - accuracy: 0.9450 - val_loss: 1.5942 - val_accuracy: 0.6063 - lr: 0.0032\n",
      "Epoch 12/30\n",
      "91/91 [==============================] - 8s 88ms/step - loss: 0.1668 - accuracy: 0.9459 - val_loss: 1.6538 - val_accuracy: 0.6006 - lr: 0.0035\n",
      "Epoch 13/30\n",
      "91/91 [==============================] - 8s 86ms/step - loss: 0.1461 - accuracy: 0.9574 - val_loss: 1.6712 - val_accuracy: 0.6148 - lr: 0.0040\n",
      "Epoch 14/30\n",
      "91/91 [==============================] - 10s 115ms/step - loss: 0.1310 - accuracy: 0.9663 - val_loss: 1.5664 - val_accuracy: 0.6234 - lr: 0.0045\n",
      "Epoch 15/30\n",
      "91/91 [==============================] - 8s 91ms/step - loss: 0.1175 - accuracy: 0.9675 - val_loss: 1.7069 - val_accuracy: 0.5977 - lr: 0.0050\n",
      "Epoch 16/30\n",
      "91/91 [==============================] - 8s 90ms/step - loss: 0.1059 - accuracy: 0.9681 - val_loss: 1.6832 - val_accuracy: 0.6006 - lr: 0.0056\n",
      "Epoch 17/30\n",
      "91/91 [==============================] - 10s 108ms/step - loss: 0.0985 - accuracy: 0.9711 - val_loss: 1.7021 - val_accuracy: 0.6163 - lr: 0.0063\n",
      "Epoch 18/30\n",
      "91/91 [==============================] - 9s 102ms/step - loss: 0.0990 - accuracy: 0.9708 - val_loss: 1.6567 - val_accuracy: 0.6106 - lr: 0.0071\n",
      "Epoch 19/30\n",
      "91/91 [==============================] - 8s 89ms/step - loss: 0.0966 - accuracy: 0.9711 - val_loss: 1.7902 - val_accuracy: 0.6248 - lr: 0.0079\n",
      "Epoch 20/30\n",
      "91/91 [==============================] - 9s 101ms/step - loss: 0.0994 - accuracy: 0.9688 - val_loss: 1.7130 - val_accuracy: 0.6391 - lr: 0.0089\n"
     ]
    },
    {
     "data": {
      "text/plain": [
       "[<matplotlib.lines.Line2D at 0x15f3ae4d3c0>]"
      ]
     },
     "execution_count": 263,
     "metadata": {},
     "output_type": "execute_result"
    },
    {
     "data": {
      "image/png": "[encoded data removed]",
      "text/plain": [
       "<Figure size 432x288 with 1 Axes>"
      ]
     },
     "metadata": {
      "needs_background": "light"
     },
     "output_type": "display_data"
    }
   ],
   "source": [
    "early_stopping = keras.callbacks.EarlyStopping(monitor='val_loss', patience=10, restore_best_weights=True)\n",
    "checkpoint = keras.callbacks.ModelCheckpoint('../models/02+03_on_01.h5', monitor='val_loss', save_best_only=True)\n",
    "lr_schedule = keras.callbacks.LearningRateScheduler(lambda epoch: 1e-3 * 10**(epoch / 20))\n",
    "\n",
    "model = initialize_model()\n",
    "optimizer = keras.optimizers.Adam(learning_rate=1e-3)\n",
    "model.compile(optimizer=optimizer, loss='categorical_crossentropy', metrics=['accuracy'])\n",
    "history = model.fit(merged, epochs= 30, validation_data=validation, callbacks=[early_stopping, checkpoint, lr_schedule])\n",
    "plt.plot(history.history['loss'])"
   ]
  },
  {
   "cell_type": "code",
   "execution_count": 264,
   "metadata": {},
   "outputs": [
    {
     "name": "stdout",
     "output_type": "stream",
     "text": [
      "113/113 [==============================] - 3s 29ms/step - loss: 1.5612 - accuracy: 0.6044\n"
     ]
    },
    {
     "data": {
      "text/plain": [
       "[1.561241626739502, 0.6043864488601685]"
      ]
     },
     "execution_count": 264,
     "metadata": {},
     "output_type": "execute_result"
    }
   ],
   "source": [
    "test = NpyDataGenerator('../data/03_hand/test', batch_size=32, shuffle=True, num_classes=100)\n",
    "model.evaluate(test)"
   ]
  },
  {
   "attachments": {},
   "cell_type": "markdown",
   "metadata": {},
   "source": [
    "# ` Conculsion `"
   ]
  },
  {
   "attachments": {},
   "cell_type": "markdown",
   "metadata": {},
   "source": [
    "### Signer dependent \n",
    "| Signer |  Accuracy |\n",
    "| --- |  --- |\n",
    "| 01 | 93.2% |\n",
    "| 02 | 92.9% |\n",
    "| 03 | 99.0% |\n",
    "\n",
    "### Signer independent\n",
    "| Signer |  Accuracy |\n",
    "| --- |  --- |\n",
    "| 01 ( trained on 02, 03) | 63.9% |\n",
    "| 02 ( trained on 01, 03) | 60.9% |\n",
    "| 03 ( trained on 01, 02) | 60.4% |\n"
   ]
  },
  {
   "attachments": {},
   "cell_type": "markdown",
   "metadata": {},
   "source": [
    "# `Inference`"
   ]
  },
  {
   "cell_type": "code",
   "execution_count": 9,
   "metadata": {},
   "outputs": [
    {
     "name": "stdout",
     "output_type": "stream",
     "text": [
      "Metal device set to: Apple M1 Pro\n",
      "\n",
      "systemMemory: 16.00 GB\n",
      "maxCacheSize: 5.33 GB\n",
      "\n"
     ]
    },
    {
     "name": "stderr",
     "output_type": "stream",
     "text": [
      "/opt/miniconda3/lib/python3.9/site-packages/keras/initializers/initializers.py:120: UserWarning: The initializer GlorotUniform is unseeded and being called multiple times, which will return identical values each time (even if the initializer is unseeded). Please update your code to provide a seed to the initializer, or avoid using the same initalizer instance more than once.\n",
      "  warnings.warn(\n"
     ]
    }
   ],
   "source": [
    "model = initialize_model()\n",
    "model.load_weights('../models/02+03_on_01.h5')"
   ]
  },
  {
   "cell_type": "code",
   "execution_count": 10,
   "metadata": {},
   "outputs": [
    {
     "name": "stderr",
     "output_type": "stream",
     "text": [
      "objc[10141]: Class CaptureDelegate is implemented in both /opt/miniconda3/lib/python3.9/site-packages/cv2/cv2.abi3.so (0x29be0e538) and /opt/miniconda3/lib/python3.9/site-packages/mediapipe/.dylibs/libopencv_videoio.3.4.16.dylib (0x29e030860). One of the two will be used. Which one is undefined.\n",
      "objc[10141]: Class CVWindow is implemented in both /opt/miniconda3/lib/python3.9/site-packages/cv2/cv2.abi3.so (0x29be0e588) and /opt/miniconda3/lib/python3.9/site-packages/mediapipe/.dylibs/libopencv_highgui.3.4.16.dylib (0x298000a68). One of the two will be used. Which one is undefined.\n",
      "objc[10141]: Class CVView is implemented in both /opt/miniconda3/lib/python3.9/site-packages/cv2/cv2.abi3.so (0x29be0e5b0) and /opt/miniconda3/lib/python3.9/site-packages/mediapipe/.dylibs/libopencv_highgui.3.4.16.dylib (0x298000a90). One of the two will be used. Which one is undefined.\n",
      "objc[10141]: Class CVSlider is implemented in both /opt/miniconda3/lib/python3.9/site-packages/cv2/cv2.abi3.so (0x29be0e5d8) and /opt/miniconda3/lib/python3.9/site-packages/mediapipe/.dylibs/libopencv_highgui.3.4.16.dylib (0x298000ab8). One of the two will be used. Which one is undefined.\n"
     ]
    }
   ],
   "source": [
    "from keras import applications\n",
    "import cv2\n",
    "import mediapipe as mp\n",
    "\n",
    "\n",
    "def build_feature_extractor():\n",
    "    InceptionV3_model = applications.InceptionV3(\n",
    "        weights=\"imagenet\",\n",
    "        include_top=False,\n",
    "        pooling=\"avg\",\n",
    "        input_shape=(IMG_SIZE, IMG_SIZE, 3), )\n",
    "\n",
    "    inputs = keras.Input((IMG_SIZE, IMG_SIZE, 3))\n",
    "    preprocess_input = keras.applications.inception_v3.preprocess_input(inputs)\n",
    "    outputs = InceptionV3_model(preprocess_input)\n",
    "    myModel = keras.Model(inputs, outputs, name=\"feature_extractor\")\n",
    "    return myModel\n",
    "\n",
    "\n",
    "feature_extractor = build_feature_extractor()"
   ]
  },
  {
   "cell_type": "code",
   "execution_count": 11,
   "metadata": {},
   "outputs": [
    {
     "name": "stderr",
     "output_type": "stream",
     "text": [
      "INFO: Created TensorFlow Lite XNNPACK delegate for CPU.\n"
     ]
    }
   ],
   "source": [
    "mp_hands = mp.solutions.hands\n",
    "hands = mp_hands.Hands(static_image_mode=True, max_num_hands=2, min_detection_confidence=0.5)\n",
    "mp_drawing = mp.solutions.drawing_utils\n",
    "\n",
    "def detect_hand(img):\n",
    "    img_copy = np.zeros(img.shape)\n",
    "    results = hands.process(cv2.cvtColor(img, cv2.COLOR_BGR2RGB))\n",
    "    spec = mp_drawing.DrawingSpec(thickness=0, circle_radius=0)\n",
    "    spec2 = mp_drawing.DrawingSpec(color = (161,61,45))\n",
    "    if results.multi_hand_landmarks:\n",
    "        for hand_no, hand_landmarks in enumerate(results.multi_hand_landmarks):\n",
    "            mp_drawing.draw_landmarks(image = img_copy, landmark_list = hand_landmarks,\n",
    "                                      connections = mp_hands.HAND_CONNECTIONS, landmark_drawing_spec = spec,\n",
    "                                      connection_drawing_spec = spec2)\n",
    "    return img_copy"
   ]
  },
  {
   "cell_type": "code",
   "execution_count": 13,
   "metadata": {},
   "outputs": [
    {
     "data": {
      "text/html": [
       "<div>\n",
       "<style scoped>\n",
       "    .dataframe tbody tr th:only-of-type {\n",
       "        vertical-align: middle;\n",
       "    }\n",
       "\n",
       "    .dataframe tbody tr th {\n",
       "        vertical-align: top;\n",
       "    }\n",
       "\n",
       "    .dataframe thead th {\n",
       "        text-align: right;\n",
       "    }\n",
       "</style>\n",
       "<table border=\"1\" class=\"dataframe\">\n",
       "  <thead>\n",
       "    <tr style=\"text-align: right;\">\n",
       "      <th></th>\n",
       "      <th>Sign-Arabic</th>\n",
       "      <th>Sign-English</th>\n",
       "    </tr>\n",
       "    <tr>\n",
       "      <th>SignID</th>\n",
       "      <th></th>\n",
       "      <th></th>\n",
       "    </tr>\n",
       "  </thead>\n",
       "  <tbody>\n",
       "    <tr>\n",
       "      <th>71</th>\n",
       "      <td>هيكل عظمي</td>\n",
       "      <td>Skeleton</td>\n",
       "    </tr>\n",
       "    <tr>\n",
       "      <th>72</th>\n",
       "      <td>جمجة</td>\n",
       "      <td>skull</td>\n",
       "    </tr>\n",
       "    <tr>\n",
       "      <th>73</th>\n",
       "      <td>عمود فقري</td>\n",
       "      <td>Backbone</td>\n",
       "    </tr>\n",
       "    <tr>\n",
       "      <th>74</th>\n",
       "      <td>قفص صدري</td>\n",
       "      <td>Chest</td>\n",
       "    </tr>\n",
       "    <tr>\n",
       "      <th>75</th>\n",
       "      <td>جهاز تنفسي</td>\n",
       "      <td>Respiratory device</td>\n",
       "    </tr>\n",
       "    <tr>\n",
       "      <th>...</th>\n",
       "      <td>...</td>\n",
       "      <td>...</td>\n",
       "    </tr>\n",
       "    <tr>\n",
       "      <th>166</th>\n",
       "      <td>يشم</td>\n",
       "      <td>inhale</td>\n",
       "    </tr>\n",
       "    <tr>\n",
       "      <th>167</th>\n",
       "      <td>يصعد</td>\n",
       "      <td>rise</td>\n",
       "    </tr>\n",
       "    <tr>\n",
       "      <th>168</th>\n",
       "      <td>ينزل</td>\n",
       "      <td>descend</td>\n",
       "    </tr>\n",
       "    <tr>\n",
       "      <th>169</th>\n",
       "      <td>يفتح</td>\n",
       "      <td>open</td>\n",
       "    </tr>\n",
       "    <tr>\n",
       "      <th>170</th>\n",
       "      <td>يقفل ( يغلق )</td>\n",
       "      <td>close</td>\n",
       "    </tr>\n",
       "  </tbody>\n",
       "</table>\n",
       "<p>100 rows × 2 columns</p>\n",
       "</div>"
      ],
      "text/plain": [
       "          Sign-Arabic        Sign-English\n",
       "SignID                                   \n",
       "71          هيكل عظمي            Skeleton\n",
       "72               جمجة               skull\n",
       "73          عمود فقري            Backbone\n",
       "74           قفص صدري               Chest\n",
       "75         جهاز تنفسي  Respiratory device\n",
       "...               ...                 ...\n",
       "166               يشم              inhale\n",
       "167              يصعد                rise\n",
       "168              ينزل             descend\n",
       "169              يفتح                open\n",
       "170     يقفل ( يغلق )               close\n",
       "\n",
       "[100 rows x 2 columns]"
      ]
     },
     "execution_count": 13,
     "metadata": {},
     "output_type": "execute_result"
    }
   ],
   "source": [
    "labels = pd.read_excel('../data/KARSL-100_Labels.xlsx', index_col=0)\n",
    "labels"
   ]
  },
  {
   "cell_type": "code",
   "execution_count": 14,
   "metadata": {},
   "outputs": [],
   "source": [
    "import re \n",
    "import imageio\n",
    "from IPython.display import Image\n",
    "\n",
    "def load_video(path, images):\n",
    "    match = re.search(r'\\d{4}', path)\n",
    "    if match:\n",
    "        label = match.group()\n",
    "    frames = []\n",
    "    for file in os.listdir(path):\n",
    "        if file.endswith(\".jpg\"):\n",
    "            img = cv2.imread(os.path.join(path, file))\n",
    "            images.append(img)\n",
    "            frames.append(cv2.resize(detect_hand(img), (IMG_SIZE, IMG_SIZE)))\n",
    "    return np.array(frames)/255, int(label)\n",
    "\n",
    "def inference(model, frames):\n",
    "    output = feature_extractor.predict(frames)\n",
    "    output = np.expand_dims(output, axis=0)\n",
    "    print(output.shape)\n",
    "    predictions = model.predict(output)\n",
    "    probs_sorted = np.sort(predictions[0])[::-1]\n",
    "    args = np.argsort(predictions[0])[::-1]\n",
    "    return {i:j for i,j in zip(args[:3], probs_sorted[:3])}  \n"
   ]
  },
  {
   "cell_type": "code",
   "execution_count": 20,
   "metadata": {},
   "outputs": [
    {
     "name": "stderr",
     "output_type": "stream",
     "text": [
      "/opt/miniconda3/lib/python3.9/site-packages/google/protobuf/symbol_database.py:78: UserWarning: SymbolDatabase.GetPrototype() is deprecated. Please use message_factory.GetMessageClass() instead. SymbolDatabase.GetPrototype() will be removed soon.\n",
      "  warnings.warn('SymbolDatabase.GetPrototype() is deprecated. Please '\n"
     ]
    },
    {
     "name": "stdout",
     "output_type": "stream",
     "text": [
      "1/1 [==============================] - 0s 139ms/step\n",
      "(1, 18, 2048)\n",
      "1/1 [==============================] - 0s 35ms/step\n",
      "Actual: Respiratory device\n",
      "Predicted: {'Respiratory device': 0.98886746, 'laser ray': 0.0033606067, 'surgery': 0.0029914808}\n"
     ]
    },
    {
     "data": {
      "text/html": [
       "<img src=\"../inference_gifs/75228141.gif\"/>"
      ],
      "text/plain": [
       "<IPython.core.display.Image object>"
      ]
     },
     "execution_count": 20,
     "metadata": {},
     "output_type": "execute_result"
    }
   ],
   "source": [
    "images = []\n",
    "# features, label = load_video('../data/01/train/0071/03_01_0071_(01_12_16_15_52_44)', images)\n",
    "features, label = load_video('../data/03/test/0075/03_03_0075_(13_12_16_17_54_17)', images)\n",
    "\n",
    "pred = inference(model, features)\n",
    "pred = {labels.loc[i+71, 'Sign-English']:j for i,j in pred.items()}\n",
    "actual = labels.loc[label, 'Sign-English']\n",
    "random = np.random.randint(299494)\n",
    "imageio.mimsave(f'../inference_gifs/{label}{random}.gif', images)\n",
    "# pred, actual\n",
    "print(f'Actual: {actual}')\n",
    "print(f'Predicted: {pred}')\n",
    "Image(url=f'../inference_gifs/{label}{random}.gif')"
   ]
  }
 ],
 "metadata": {
  "kernelspec": {
   "display_name": "base",
   "language": "python",
   "name": "python3"
  },
  "language_info": {
   "codemirror_mode": {
    "name": "ipython",
    "version": 3
   },
   "file_extension": ".py",
   "mimetype": "text/x-python",
   "name": "python",
   "nbconvert_exporter": "python",
   "pygments_lexer": "ipython3",
   "version": "3.9.16"
  },
  "orig_nbformat": 4,
  "vscode": {
   "interpreter": {
    "hash": "3d597f4c481aa0f25dceb95d2a0067e73c0966dcbd003d741d821a7208527ecf"
   }
  }
 },
 "nbformat": 4,
 "nbformat_minor": 2
}
